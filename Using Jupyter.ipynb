{
 "cells": [
  {
   "cell_type": "markdown",
   "id": "a5d71305",
   "metadata": {},
   "source": [
    "# What is Jupyter\n",
    "\n",
    "Welcome to the Jupyter short tutorial. If you can see this then the system has started up correctly\n",
    "\n",
    "The original intent of a Jupyter notebook is as a tool for interactively developing and presenting data science projects.\n",
    "\n",
    "In our context though, the 'notebooks' are being used as live training documents.\n",
    "\n",
    "## what is a “notebook”?\n",
    "\n",
    "A notebook integrates python code, text and code outputs into a single document that could combine visualizations, narrative text, mathematical equations, and other rich media. \n",
    "\n",
    "Or, in other words, it's a single document where you can run code, display the output, and also add explanations, formulas, charts, and make your work more transparent, understandable, repeatable, and shareable.\n",
    "\n",
    "### our notebooks\n",
    "For the purposes of this course, our notebooks are listed in the academy programming folder. For someone who is entering into the world of coding, the Python.Primer notebooks cover the basics that are also expressed in the course slides. There are also challenge notebooks and cheat sheet notebooks for reference, feel free to explore them \n",
    "\n",
    "## Notebook interface\n",
    "\n",
    "A notebook is essentially an advanced word processor. This content that you are reading now is stored in a cell. A cell is an area in the notebook that contains either code or text, where the text is expressed in markdown. It's not the intent of this course to teach you notebook operations in depth, there is a host of online resources for that. For now though note that cells contain content and they can be 'run' to execute that content, if it's text then running the cell will clode it for modification to the text and disply the contents in a formatted way and is self contained in the cell you ran, the result of running a cell that has code is an output which appears after the cell when it is run. Lets try that. Below is a cell that currently has one command in it but it is commented out (wont actually do anything), delete the # and click the run button above. Watch what happens"
   ]
  },
  {
   "cell_type": "code",
   "execution_count": 1,
   "id": "4f6088a9",
   "metadata": {},
   "outputs": [],
   "source": [
    "#print('This happened and here is the result of it')"
   ]
  },
  {
   "cell_type": "markdown",
   "id": "1c0e002e",
   "metadata": {},
   "source": [
    "Notice that the format of the text changed when you deleted the #, the # sign is an indication to the kernel that the text following it is a comment and should not be processed as code. When the # was removed the kernel then understood it as something to execute. Hopefully when you ran the cell the result was that the content in the 'This happened and here is the result of it' was output. \n",
    "\n",
    "Notice also that  In [ ] to the left of the cell changed to In [1]. Any other cells run will have a higher value,  this is not present for cells that only contain markdown, such as this one."
   ]
  },
  {
   "cell_type": "markdown",
   "id": "9a7d424b",
   "metadata": {},
   "source": [
    "## What just happened\n",
    "When you ran the code cell the kernel (the thing that will process the command it is given) attempted to execute the instruction. A cell can contain more than one instruction. \n",
    "\n",
    "Lets see this in action, the following two lines, when the cell is run, will ask the user for an input and then print what was typed into the output. \n",
    "\n",
    "this is using two python commands 'input' and 'print'\n",
    "\n",
    "the way a python interpreter works is that it will read and execute, line by line, the instructions in the cell.\n",
    "\n",
    "Notice also that when the cell is run, where the input is supposed to occur, notice also that you will need to put data into the space indicated and press enter to send that data into the kernel. \n",
    "\n"
   ]
  },
  {
   "cell_type": "code",
   "execution_count": 4,
   "id": "53d55b67",
   "metadata": {},
   "outputs": [
    {
     "ename": "KeyboardInterrupt",
     "evalue": "Interrupted by user",
     "output_type": "error",
     "traceback": [
      "\u001b[1;31m---------------------------------------------------------------------------\u001b[0m",
      "\u001b[1;31mKeyboardInterrupt\u001b[0m                         Traceback (most recent call last)",
      "Cell \u001b[1;32mIn [4], line 1\u001b[0m\n\u001b[1;32m----> 1\u001b[0m name \u001b[38;5;241m=\u001b[39m \u001b[38;5;28;43minput\u001b[39;49m\u001b[43m(\u001b[49m\u001b[38;5;124;43m\"\u001b[39;49m\u001b[38;5;124;43mWhat is your name \u001b[39;49m\u001b[38;5;124;43m\"\u001b[39;49m\u001b[43m)\u001b[49m\n\u001b[0;32m      2\u001b[0m \u001b[38;5;28mprint\u001b[39m(\u001b[38;5;124m\"\u001b[39m\u001b[38;5;124mWell hi there\u001b[39m\u001b[38;5;124m\"\u001b[39m, name)\n",
      "File \u001b[1;32m~\\AppData\\Roaming\\Python\\Python310\\site-packages\\ipykernel\\kernelbase.py:1177\u001b[0m, in \u001b[0;36mKernel.raw_input\u001b[1;34m(self, prompt)\u001b[0m\n\u001b[0;32m   1173\u001b[0m \u001b[38;5;28;01mif\u001b[39;00m \u001b[38;5;129;01mnot\u001b[39;00m \u001b[38;5;28mself\u001b[39m\u001b[38;5;241m.\u001b[39m_allow_stdin:\n\u001b[0;32m   1174\u001b[0m     \u001b[38;5;28;01mraise\u001b[39;00m StdinNotImplementedError(\n\u001b[0;32m   1175\u001b[0m         \u001b[38;5;124m\"\u001b[39m\u001b[38;5;124mraw_input was called, but this frontend does not support input requests.\u001b[39m\u001b[38;5;124m\"\u001b[39m\n\u001b[0;32m   1176\u001b[0m     )\n\u001b[1;32m-> 1177\u001b[0m \u001b[38;5;28;01mreturn\u001b[39;00m \u001b[38;5;28;43mself\u001b[39;49m\u001b[38;5;241;43m.\u001b[39;49m\u001b[43m_input_request\u001b[49m\u001b[43m(\u001b[49m\n\u001b[0;32m   1178\u001b[0m \u001b[43m    \u001b[49m\u001b[38;5;28;43mstr\u001b[39;49m\u001b[43m(\u001b[49m\u001b[43mprompt\u001b[49m\u001b[43m)\u001b[49m\u001b[43m,\u001b[49m\n\u001b[0;32m   1179\u001b[0m \u001b[43m    \u001b[49m\u001b[38;5;28;43mself\u001b[39;49m\u001b[38;5;241;43m.\u001b[39;49m\u001b[43m_parent_ident\u001b[49m\u001b[43m[\u001b[49m\u001b[38;5;124;43m\"\u001b[39;49m\u001b[38;5;124;43mshell\u001b[39;49m\u001b[38;5;124;43m\"\u001b[39;49m\u001b[43m]\u001b[49m\u001b[43m,\u001b[49m\n\u001b[0;32m   1180\u001b[0m \u001b[43m    \u001b[49m\u001b[38;5;28;43mself\u001b[39;49m\u001b[38;5;241;43m.\u001b[39;49m\u001b[43mget_parent\u001b[49m\u001b[43m(\u001b[49m\u001b[38;5;124;43m\"\u001b[39;49m\u001b[38;5;124;43mshell\u001b[39;49m\u001b[38;5;124;43m\"\u001b[39;49m\u001b[43m)\u001b[49m\u001b[43m,\u001b[49m\n\u001b[0;32m   1181\u001b[0m \u001b[43m    \u001b[49m\u001b[43mpassword\u001b[49m\u001b[38;5;241;43m=\u001b[39;49m\u001b[38;5;28;43;01mFalse\u001b[39;49;00m\u001b[43m,\u001b[49m\n\u001b[0;32m   1182\u001b[0m \u001b[43m\u001b[49m\u001b[43m)\u001b[49m\n",
      "File \u001b[1;32m~\\AppData\\Roaming\\Python\\Python310\\site-packages\\ipykernel\\kernelbase.py:1219\u001b[0m, in \u001b[0;36mKernel._input_request\u001b[1;34m(self, prompt, ident, parent, password)\u001b[0m\n\u001b[0;32m   1216\u001b[0m             \u001b[38;5;28;01mbreak\u001b[39;00m\n\u001b[0;32m   1217\u001b[0m \u001b[38;5;28;01mexcept\u001b[39;00m \u001b[38;5;167;01mKeyboardInterrupt\u001b[39;00m:\n\u001b[0;32m   1218\u001b[0m     \u001b[38;5;66;03m# re-raise KeyboardInterrupt, to truncate traceback\u001b[39;00m\n\u001b[1;32m-> 1219\u001b[0m     \u001b[38;5;28;01mraise\u001b[39;00m \u001b[38;5;167;01mKeyboardInterrupt\u001b[39;00m(\u001b[38;5;124m\"\u001b[39m\u001b[38;5;124mInterrupted by user\u001b[39m\u001b[38;5;124m\"\u001b[39m) \u001b[38;5;28;01mfrom\u001b[39;00m \u001b[38;5;28mNone\u001b[39m\n\u001b[0;32m   1220\u001b[0m \u001b[38;5;28;01mexcept\u001b[39;00m \u001b[38;5;167;01mException\u001b[39;00m:\n\u001b[0;32m   1221\u001b[0m     \u001b[38;5;28mself\u001b[39m\u001b[38;5;241m.\u001b[39mlog\u001b[38;5;241m.\u001b[39mwarning(\u001b[38;5;124m\"\u001b[39m\u001b[38;5;124mInvalid Message:\u001b[39m\u001b[38;5;124m\"\u001b[39m, exc_info\u001b[38;5;241m=\u001b[39m\u001b[38;5;28;01mTrue\u001b[39;00m)\n",
      "\u001b[1;31mKeyboardInterrupt\u001b[0m: Interrupted by user"
     ]
    }
   ],
   "source": [
    "name = input(\"What is your name \")\n",
    "print(\"Well hi there\", name)"
   ]
  },
  {
   "cell_type": "markdown",
   "id": "5bfbfcb8",
   "metadata": {},
   "source": [
    "### What just happened\n",
    "the two lines of code in the cell were run one after the other, the first command was a request for data, which will go to memory or rather a memory space I called name (Don't worry this is all in the primer sheets)\n",
    "A second line was then run which output some text and  the value of the data you put into the space I called name. \n",
    "\n",
    "### When things go wrong\n",
    "if you put your name into the input field (a rectangular box) and pressed enter then you should have seen your name printed after the words \"Well hi There\".  Lets break it this time.  \n",
    "Run the cell below again but instead of entering your name and pressing enter, use the square stop button above (should be below the word Kernel and next to the run button) now notice that there is a lot of red and green text that appears, this is the kernel reporting what it sees as an abnormal exit, if you want to know what went wrong then you only need look at the last line supplied in the message, which in this case should be KeyboardInterrupt: Interrupted by user.  Have a guess what that means "
   ]
  },
  {
   "cell_type": "code",
   "execution_count": null,
   "id": "e860bf03",
   "metadata": {},
   "outputs": [],
   "source": []
  }
 ],
 "metadata": {
  "kernelspec": {
   "display_name": "Python 3 (ipykernel)",
   "language": "python",
   "name": "python3"
  },
  "language_info": {
   "codemirror_mode": {
    "name": "ipython",
    "version": 3
   },
   "file_extension": ".py",
   "mimetype": "text/x-python",
   "name": "python",
   "nbconvert_exporter": "python",
   "pygments_lexer": "ipython3",
   "version": "3.10.10"
  }
 },
 "nbformat": 4,
 "nbformat_minor": 5
}
