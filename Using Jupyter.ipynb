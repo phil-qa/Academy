{
 "cells": [
  {
   "cell_type": "markdown",
   "id": "a5d71305",
   "metadata": {},
   "source": [
    "# What is Jupyter\n",
    "\n",
    "Welcome to the Jupyter short tutorial. If you can see this then the system has started up correctly\n",
    "\n",
    "The original intent of a Jupyter notebook is as a tool for interactively developing and presenting data science projects.\n",
    "\n",
    "In our context though, the 'notebooks' are being used as live training documents.\n",
    "\n",
    "## what is a “notebook”?\n",
    "\n",
    "A notebook integrates python code, text and code outputs into a single document that could combine visualizations, narrative text, mathematical equations, and other rich media. \n",
    "\n",
    "Or, in other words, it's a single document where you can run code, display the output, and also add explanations, formulas, charts, and make your work more transparent, understandable, repeatable, and shareable.\n",
    "\n",
    "### our notebooks\n",
    "For the purposes of this course, our notebooks are listed in the academy programming folder. For someone who is entering into the world of coding, the Python.Primer notebooks cover the basics that are also expressed in the course slides. There are also challenge notebooks and cheat sheet notebooks for reference, feel free to explore them \n",
    "\n",
    "## Notebook interface\n",
    "\n",
    "A notebook is essentially an advanced word processor. This content that you are reading now is stored in a cell. A cell is an area in the notebook that contains either code or text, where the text is expressed in markdown. It's not the intent of this course to teach you notebook operations in depth, there is a host of online resources for that. For now though note that cells contain content and they can be 'run' to execute that content, if it's text then running the cell will clode it for modification to the text and disply the contents in a formatted way and is self contained in the cell you ran, the result of running a cell that has code is an output which appears after the cell when it is run. Lets try that. Below is a cell that currently has one command in it but it is commented out (wont actually do anything), delete the # and click the run button above. Watch what happens"
   ]
  },
  {
   "cell_type": "code",
   "execution_count": 1,
   "id": "4f6088a9",
   "metadata": {},
   "outputs": [],
   "source": [
    "#print('This happened and here is the result of it')"
   ]
  },
  {
   "cell_type": "markdown",
   "id": "1c0e002e",
   "metadata": {},
   "source": [
    "Notice that the format of the text changed when you deleted the #, the # sign is an indication to the kernel that the text following it is a comment and should not be processed as code. When the # was removed the kernel then understood it as something to execute. Hopefully when you ran the cell the result was that the content in the 'This happened and here is the result of it' was output. \n",
    "\n",
    "Notice also that  In [ ] to the left of the cell changed to In [1]. Any other cells run will have a higher value,  this is not present for cells that only contain markdown, such as this one."
   ]
  },
  {
   "cell_type": "markdown",
   "id": "9a7d424b",
   "metadata": {},
   "source": [
    "## What just happened\n",
    "When you ran the code cell the kernel (the thing that will process the command it is given) attempted to execute the instruction. A cell can contain more than one instruction. \n",
    "\n",
    "Lets see this in action, the following two lines, when the cell is run, will ask the user for an input and then print what was typed into the output. \n",
    "\n",
    "this is using two python commands 'input' and 'print'\n",
    "\n",
    "the way a python interpreter works is that it will read and execute, line by line, the instructions in the cell.\n",
    "\n",
    "Notice also that when the cell is run, where the input is supposed to occur, notice also that you will need to put data into the space indicated and press enter to send that data into the kernel. \n",
    "\n"
   ]
  },
  {
   "cell_type": "code",
   "execution_count": 1,
   "id": "53d55b67",
   "metadata": {},
   "outputs": [
    {
     "name": "stdin",
     "output_type": "stream",
     "text": [
      "What is your name  Phil\n"
     ]
    },
    {
     "name": "stdout",
     "output_type": "stream",
     "text": [
      "Well hi there Phil\n"
     ]
    }
   ],
   "source": [
    "name = input(\"What is your name \")\n",
    "print(\"Well hi there\", name)"
   ]
  },
  {
   "cell_type": "markdown",
   "id": "5bfbfcb8",
   "metadata": {},
   "source": [
    "### What just happened\n",
    "The two lines of python code in the cell were run one after the other, the first command was a request for data, which will go to memory or rather, a memory space I called 'name' (Don't worry this is all in the primer sheets)\n",
    "A second line was then run which output some text and  the value of the data you put into the space I called name. \n",
    "\n",
    "### When things go wrong\n",
    "if you put your name into the input field (a rectangular box) and pressed enter then you should have seen your name printed after the words \"Well hi There\".  Lets break it this time.  \n",
    "Run the cell again but instead of entering your name and pressing enter, use the square stop button at the top of the  browser window, (it should be below the word Kernel and next to the run button) now notice that there is a lot of red and green text that appears, this is the kernel reporting what it sees as an abnormal exit, if you want to know what went wrong then you only need look at the last line supplied in the message, which in this case should be KeyboardInterrupt: Interrupted by user.  Have a guess what that means."
   ]
  },
  {
   "cell_type": "markdown",
   "id": "e1996c15-bbeb-409f-bd6e-4fe4a4104636",
   "metadata": {},
   "source": [
    "## What you should know now\n",
    "A jupyter notebook is a series of 'cells' that are sequential   \n",
    "Each cell can contain either text in a format called [Markdown](https://github.com/im-luka/markdown-cheatsheet) or python code\n",
    "Each cell can be 'run' and depending on if it is text or code, it will respond as such.   \n",
    "Cells can be added, moved, deleted, copied, or pasted   \n",
    "\n",
    "A good example of working with jupyter is available in a tutorial from dataquest [Tutorial](https://www.dataquest.io/blog/jupyter-notebook-tutorial/)\n"
   ]
  },
  {
   "cell_type": "code",
   "execution_count": null,
   "id": "59a34332-a28e-40d6-8032-e944862cc1c9",
   "metadata": {},
   "outputs": [],
   "source": []
  }
 ],
 "metadata": {
  "kernelspec": {
   "display_name": "Python 3 (ipykernel)",
   "language": "python",
   "name": "python3"
  },
  "language_info": {
   "codemirror_mode": {
    "name": "ipython",
    "version": 3
   },
   "file_extension": ".py",
   "mimetype": "text/x-python",
   "name": "python",
   "nbconvert_exporter": "python",
   "pygments_lexer": "ipython3",
   "version": "3.11.9"
  }
 },
 "nbformat": 4,
 "nbformat_minor": 5
}
