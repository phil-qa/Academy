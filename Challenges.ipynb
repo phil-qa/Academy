{
  "cells": [
    {
      "cell_type": "markdown",
      "id": "24bccdaa",
      "metadata": {
        "id": "24bccdaa"
      },
      "source": [
        "# Challenges\n",
        "\n",
        "## Introduction\n",
        "The following challenges are designed to enable all levels to work at their own pace and at the level they are at. It is of use that different people will answer these in different ways. The idea is to first of all complete the question and then see if there are optimisations that can be implemented.\n",
        "\n",
        "## Suggested approach\n",
        "\n",
        "Consider the problem, break it down into small units of activity and mark them as comments in the code, then implement the activities to solve the solution.\n",
        "\n",
        "The following table suggests levels you can work to. It's not explicit that you do it this way but honestly, if you don't start this with the idea that you should advance, then you are what is known as walking technical debt and you will be expensive. ***HOWEVER*** if you are just finding your feet with this and coding, then as long as you are at least aware of the levels, and that you should aim to engege with them when you should or can, then that's fine, have fun first.\n",
        "\n",
        "| Level          | Approach                     | Outcome                                                                 |\n",
        "|----------------|------------------------------|-------------------------------------------------------------------------|\n",
        "| Entry          | MVP : Minimum viable Produce | The question is solved using basic constructs                           |\n",
        "| Basic          | Refactoring                  | The code produced in the MVP is refactored for readability              |\n",
        "| Intermediate   | Modular                      | The code is in functions and modular                                    |\n",
        "| Intermediate + | Documented                   | Code is documented                                                      |\n",
        "| Advanced       | Code was written using TDD   | There is a test suite that supports the solution that was written first |\n",
        "| Advanced +     | Qualified opntimisation      | Solution has performance metrics to show optimisation quality           |"
      ]
    },
    {
      "cell_type": "markdown",
      "id": "2737f665",
      "metadata": {
        "id": "2737f665"
      },
      "source": [
        "### Area calculator\n",
        "difficulty : low\n",
        "\n",
        "Exercises basic input and output\n",
        "\n",
        "#### Problem statement\n",
        "The requirement is to determine the area of a rectangle, this is the product of the height and length of the rectangle\n",
        "\n",
        "#### GWT statement\n",
        "- Given a user inputs two values for height and length\n",
        "- When the user has completed the data entry\n",
        "- Then the output is a message and a calculated area value\n"
      ]
    },
    {
      "cell_type": "code",
      "execution_count": null,
      "id": "77f379ba",
      "metadata": {
        "id": "77f379ba"
      },
      "outputs": [],
      "source": [
        "#Your code here\n"
      ]
    },
    {
      "cell_type": "markdown",
      "id": "308b862f",
      "metadata": {
        "id": "308b862f"
      },
      "source": [
        "### Room area calculator\n",
        "difficulty low\n",
        "\n",
        "Exercises multiple inputs and one output\n",
        "\n",
        "#### Problem statement\n",
        "The requirement is to determine the area of a room that has four walls, the user should be able to input values for each wall, the solution should not assume equal opposite walls.\n",
        "\n",
        "#### GWT statement\n",
        "- Given a room with 4 walls that may not be equal in dimension\n",
        "- When a user inputs dimensions for each wall\n",
        "- Then the output shall be a message that the area is the sum of the products of the dimensions\n"
      ]
    },
    {
      "cell_type": "code",
      "execution_count": null,
      "id": "8aebdfa8",
      "metadata": {
        "id": "8aebdfa8"
      },
      "outputs": [],
      "source": [
        "# Your code here\n"
      ]
    },
    {
      "cell_type": "markdown",
      "id": "faa38c1b",
      "metadata": {
        "id": "faa38c1b"
      },
      "source": [
        "### Room area calculator advanced\n",
        "\n",
        "difficulty medium\n",
        "\n",
        "Exercises data containers, math, logic\n",
        "\n",
        "#### Problem statement\n",
        "\n",
        "The requirement is to determine the area of a room that has four walls, doors, and windows. The solution should not assume standard door and window sizes and should not assume equal dimension oposite walls\n",
        "\n",
        "#### GWT\n",
        "- Given a room with four walls that may not be equal in dimension AND a variable number of windows and doors\n",
        "- When the user enters dimensional data for walls and negative space of doors and windows\n",
        "- Then the output shall be a message that the area is the sum of the products of the wall dimensions less the sum of the product of the window and door dimensions\n"
      ]
    },
    {
      "cell_type": "code",
      "execution_count": null,
      "id": "6b05ba92",
      "metadata": {
        "id": "6b05ba92"
      },
      "outputs": [],
      "source": [
        "# your code here\n"
      ]
    },
    {
      "cell_type": "markdown",
      "source": [
        "## Refactor the code   \n",
        "difficulty medium\n",
        "\n",
        "This challenge asks you to consider the architecture of the code you have done so far with the calculation, if you have already been following the levels set out at the start then you are likely to have done this already. If you are still taking small steps and have not then have a go at this.   \n",
        "\n",
        "\n",
        "Building on the previous work, (requires that you have done the calculator above), can you now review what you have done and decide if you can move small bits of code into a function, for example if you have some code that calculates area:   \n",
        "`area = length * height`   \n",
        "That can be written as a function (called get_area(length, height)) that returns the result of multiplying the two together.  In the course support documentation is the reason why we would do that.  Review your code and try to bring it to a modular state by applying things as functions.\n",
        "\n",
        "### GWT\n",
        "\n",
        "\n",
        "*   Given code that can flexibly calculate areas of multiple walls based on user inputs, and take into account negative space   \n",
        "*   When the code is reviewed\n",
        "*   Then the code is rewritten so that it is modular AND the code functions as required.\n",
        "\n",
        "\n",
        "\n",
        "\n"
      ],
      "metadata": {
        "id": "yqi6yWhjYnTo"
      },
      "id": "yqi6yWhjYnTo"
    },
    {
      "cell_type": "code",
      "source": [
        "#y our code here"
      ],
      "metadata": {
        "id": "PCyuhv-qbcAu"
      },
      "id": "PCyuhv-qbcAu",
      "execution_count": null,
      "outputs": []
    },
    {
      "cell_type": "markdown",
      "id": "38aeba63",
      "metadata": {
        "id": "38aeba63"
      },
      "source": [
        "### Advanced challenges\n",
        "\n",
        "difficulty : advanced\n",
        "\n",
        "#### Multiples 3 and 5\n",
        "##### Problem statement:\n",
        "The requirement is to get the sum of all numbers below 1000 that are multiples of either 3 or 5\n",
        "\n",
        "##### GWT statement\n",
        "- Given an integer range between 1 and 1000\n",
        "- When it is processed to find those integers that are multiples of 3 or 5\n",
        "- Then the result shall be the sum of those integers\n",
        "\n"
      ]
    },
    {
      "cell_type": "code",
      "execution_count": null,
      "id": "34d99351",
      "metadata": {
        "id": "34d99351"
      },
      "outputs": [],
      "source": [
        "# your code here\n"
      ]
    },
    {
      "cell_type": "markdown",
      "id": "5c655bb3",
      "metadata": {
        "id": "5c655bb3"
      },
      "source": [
        "#### Name scores\n",
        "\n",
        "difficulty: advanced\n",
        "\n",
        "#### Problem statement:\n",
        "\n",
        "The requirement is to ge the nams from a file (names.txt) sort the names alphabeltically, then find the alphabetical value of the name, that is to say the sum of the positions which the letter appears in the alphaet (A = 1, B = 2, C = 3 ........ Z = 26)\n",
        "\n",
        "eg COLIN = 3 + 15 + 9 + 14 = 53\n",
        "\n",
        "multiply that number by its position in the list, COLIN is at 938 in the list so 53 * 938 and sum them all to find the figure\n",
        "\n",
        "##### GWT statement\n",
        "- Given a list of names in a file\n",
        "- When it is ordered alphabetically and each name given a value according to it's alphabetic number multiplied by its position in the list\n",
        "- Then the result shall be the sum of those values\n",
        "\n",
        "\n",
        "\n"
      ]
    },
    {
      "cell_type": "code",
      "execution_count": null,
      "id": "77ff5bbd",
      "metadata": {
        "id": "77ff5bbd"
      },
      "outputs": [],
      "source": [
        "# refer to slides for loading the file called names.txt in READ mode\n"
      ]
    },
    {
      "cell_type": "markdown",
      "id": "3fed562d",
      "metadata": {
        "id": "3fed562d"
      },
      "source": [
        "### Coin sums\n",
        "\n",
        "difficulty : really advanced\n",
        "\n",
        "In the UK the currency is made up of punds and pence where 100 pence equates to a pound. The coins in circulation are currently :\n",
        "1p, 2p, 5p, 10p, 20p, 50p, £1, £2\n",
        "\n",
        "#### Problem statement\n",
        "The requirement is to determine how many combinations of the coins available in circulation that total a £2 value\n",
        "\n",
        "#### GWT statement\n",
        "- Given a set of coins in UK circulation 1p, 2p, 5p, 10p, 20p, 50p, £1, £2\n",
        "- When combinations of those coins are used to sum £2\n",
        "- Then the result shall be the sum of the combinations\n",
        "\n"
      ]
    },
    {
      "cell_type": "code",
      "execution_count": null,
      "id": "add4eda4",
      "metadata": {
        "id": "add4eda4"
      },
      "outputs": [],
      "source": [
        "# your code here\n"
      ]
    },
    {
      "cell_type": "markdown",
      "source": [
        "## Chunky Challenge Coffee machine\n",
        "\n",
        "Dificulty - beginner to advanced\n",
        "\n",
        "This challenge offers the opportunity to deal with a bigger problem, but by using the techniques covered so far, it should be possible to create something very effective.   \n",
        "\n",
        "### The coffee machine  \n",
        "A coffee machine is an interesting problem, you put money in and you get a drink out, that sounds simple until you start to consider the processes that need to be involved for all of that to happen.\n",
        "\n",
        "An initial 'for instance' some processing has to handle what coins were put in against the price of the thing someone may want to buy, and then handle any overpayment, and verify that the machine has the coins to handle any overpayment. That is one aspect of this that will serve a whole where ultimately a customer who has the minimum payment for an item gets the item.   \n",
        "\n",
        "Before writing a single line of code, you should do a mental exercise to determine the constituent processes required to achieve the aim.  \n",
        "\n",
        "This exercise will be expressed as a business statement that a developer may get. Good luck   \n",
        "\n",
        "## Value statment\n",
        "As a coffee company 'Yummy coffee vending'  \n",
        "I want a code solution for accepting a customers choice of products available in a coffee machine and providing them with their selection    \n",
        "So that I can make money and they can enjoy a coffee    \n",
        "\n"
      ],
      "metadata": {
        "id": "ZOEPzZpScaSc"
      },
      "id": "ZOEPzZpScaSc"
    },
    {
      "cell_type": "code",
      "execution_count": null,
      "id": "1c7ebab9",
      "metadata": {
        "id": "1c7ebab9"
      },
      "outputs": [],
      "source": [
        "# your code may be here or done in a development environment"
      ]
    }
  ],
  "metadata": {
    "kernelspec": {
      "display_name": "Python 3 (ipykernel)",
      "language": "python",
      "name": "python3"
    },
    "language_info": {
      "codemirror_mode": {
        "name": "ipython",
        "version": 3
      },
      "file_extension": ".py",
      "mimetype": "text/x-python",
      "name": "python",
      "nbconvert_exporter": "python",
      "pygments_lexer": "ipython3",
      "version": "3.9.7"
    },
    "colab": {
      "provenance": []
    }
  },
  "nbformat": 4,
  "nbformat_minor": 5
}